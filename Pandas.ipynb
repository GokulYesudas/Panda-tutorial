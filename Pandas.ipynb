{
 "cells": [
  {
   "cell_type": "markdown",
   "id": "cfdcc840",
   "metadata": {},
   "source": [
    "# Loading data into Pandas"
   ]
  },
  {
   "cell_type": "code",
   "execution_count": 18,
   "id": "4cdbeb42",
   "metadata": {},
   "outputs": [
    {
     "name": "stdout",
     "output_type": "stream",
     "text": [
      "                      Name   Type 1  Type 2  HP  Attack  Defense  Sp. Atk  \\\n",
      "#                                                                           \n",
      "1                Bulbasaur    Grass  Poison  45      49       49       65   \n",
      "2                  Ivysaur    Grass  Poison  60      62       63       80   \n",
      "3                 Venusaur    Grass  Poison  80      82       83      100   \n",
      "3    VenusaurMega Venusaur    Grass  Poison  80     100      123      122   \n",
      "4               Charmander     Fire     NaN  39      52       43       60   \n",
      "..                     ...      ...     ...  ..     ...      ...      ...   \n",
      "719                Diancie     Rock   Fairy  50     100      150      100   \n",
      "719    DiancieMega Diancie     Rock   Fairy  50     160      110      160   \n",
      "720    HoopaHoopa Confined  Psychic   Ghost  80     110       60      150   \n",
      "720     HoopaHoopa Unbound  Psychic    Dark  80     160       60      170   \n",
      "721              Volcanion     Fire   Water  80     110      120      130   \n",
      "\n",
      "     Sp. Def  Speed  Generation  Legendary  \n",
      "#                                           \n",
      "1         65     45           1      False  \n",
      "2         80     60           1      False  \n",
      "3        100     80           1      False  \n",
      "3        120     80           1      False  \n",
      "4         50     65           1      False  \n",
      "..       ...    ...         ...        ...  \n",
      "719      150     50           6       True  \n",
      "719      110    110           6       True  \n",
      "720      130     70           6       True  \n",
      "720      130     80           6       True  \n",
      "721       90     70           6       True  \n",
      "\n",
      "[800 rows x 11 columns]\n"
     ]
    }
   ],
   "source": [
    "import pandas as pd\n",
    "\n",
    "basefolder=r\"C:\\Users\\Das Bros\\Documents\\Pandas\"\n",
    "\n",
    "df = pd.read_csv(r\"C:\\Users\\Das Bros\\Documents\\Pandas\\pokemon_data.csv.txt\",index_col='#')\n",
    "\n",
    "print(df)"
   ]
  },
  {
   "cell_type": "markdown",
   "id": "cea218af",
   "metadata": {},
   "source": [
    "# Describing Data"
   ]
  },
  {
   "cell_type": "code",
   "execution_count": 29,
   "id": "8610495e",
   "metadata": {},
   "outputs": [
    {
     "data": {
      "text/html": [
       "<div>\n",
       "<style scoped>\n",
       "    .dataframe tbody tr th:only-of-type {\n",
       "        vertical-align: middle;\n",
       "    }\n",
       "\n",
       "    .dataframe tbody tr th {\n",
       "        vertical-align: top;\n",
       "    }\n",
       "\n",
       "    .dataframe thead th {\n",
       "        text-align: right;\n",
       "    }\n",
       "</style>\n",
       "<table border=\"1\" class=\"dataframe\">\n",
       "  <thead>\n",
       "    <tr style=\"text-align: right;\">\n",
       "      <th></th>\n",
       "      <th>HP</th>\n",
       "      <th>Attack</th>\n",
       "      <th>Defense</th>\n",
       "      <th>Sp. Atk</th>\n",
       "      <th>Sp. Def</th>\n",
       "      <th>Speed</th>\n",
       "      <th>Generation</th>\n",
       "      <th>Total</th>\n",
       "    </tr>\n",
       "  </thead>\n",
       "  <tbody>\n",
       "    <tr>\n",
       "      <th>count</th>\n",
       "      <td>800.000000</td>\n",
       "      <td>800.000000</td>\n",
       "      <td>800.000000</td>\n",
       "      <td>800.000000</td>\n",
       "      <td>800.000000</td>\n",
       "      <td>800.000000</td>\n",
       "      <td>800.00000</td>\n",
       "      <td>800.00000</td>\n",
       "    </tr>\n",
       "    <tr>\n",
       "      <th>mean</th>\n",
       "      <td>69.258750</td>\n",
       "      <td>79.001250</td>\n",
       "      <td>73.842500</td>\n",
       "      <td>72.820000</td>\n",
       "      <td>71.902500</td>\n",
       "      <td>68.277500</td>\n",
       "      <td>3.32375</td>\n",
       "      <td>435.10250</td>\n",
       "    </tr>\n",
       "    <tr>\n",
       "      <th>std</th>\n",
       "      <td>25.534669</td>\n",
       "      <td>32.457366</td>\n",
       "      <td>31.183501</td>\n",
       "      <td>32.722294</td>\n",
       "      <td>27.828916</td>\n",
       "      <td>29.060474</td>\n",
       "      <td>1.66129</td>\n",
       "      <td>119.96304</td>\n",
       "    </tr>\n",
       "    <tr>\n",
       "      <th>min</th>\n",
       "      <td>1.000000</td>\n",
       "      <td>5.000000</td>\n",
       "      <td>5.000000</td>\n",
       "      <td>10.000000</td>\n",
       "      <td>20.000000</td>\n",
       "      <td>5.000000</td>\n",
       "      <td>1.00000</td>\n",
       "      <td>180.00000</td>\n",
       "    </tr>\n",
       "    <tr>\n",
       "      <th>25%</th>\n",
       "      <td>50.000000</td>\n",
       "      <td>55.000000</td>\n",
       "      <td>50.000000</td>\n",
       "      <td>49.750000</td>\n",
       "      <td>50.000000</td>\n",
       "      <td>45.000000</td>\n",
       "      <td>2.00000</td>\n",
       "      <td>330.00000</td>\n",
       "    </tr>\n",
       "    <tr>\n",
       "      <th>50%</th>\n",
       "      <td>65.000000</td>\n",
       "      <td>75.000000</td>\n",
       "      <td>70.000000</td>\n",
       "      <td>65.000000</td>\n",
       "      <td>70.000000</td>\n",
       "      <td>65.000000</td>\n",
       "      <td>3.00000</td>\n",
       "      <td>450.00000</td>\n",
       "    </tr>\n",
       "    <tr>\n",
       "      <th>75%</th>\n",
       "      <td>80.000000</td>\n",
       "      <td>100.000000</td>\n",
       "      <td>90.000000</td>\n",
       "      <td>95.000000</td>\n",
       "      <td>90.000000</td>\n",
       "      <td>90.000000</td>\n",
       "      <td>5.00000</td>\n",
       "      <td>515.00000</td>\n",
       "    </tr>\n",
       "    <tr>\n",
       "      <th>max</th>\n",
       "      <td>255.000000</td>\n",
       "      <td>190.000000</td>\n",
       "      <td>230.000000</td>\n",
       "      <td>194.000000</td>\n",
       "      <td>230.000000</td>\n",
       "      <td>180.000000</td>\n",
       "      <td>6.00000</td>\n",
       "      <td>780.00000</td>\n",
       "    </tr>\n",
       "  </tbody>\n",
       "</table>\n",
       "</div>"
      ],
      "text/plain": [
       "               HP      Attack     Defense     Sp. Atk     Sp. Def       Speed  \\\n",
       "count  800.000000  800.000000  800.000000  800.000000  800.000000  800.000000   \n",
       "mean    69.258750   79.001250   73.842500   72.820000   71.902500   68.277500   \n",
       "std     25.534669   32.457366   31.183501   32.722294   27.828916   29.060474   \n",
       "min      1.000000    5.000000    5.000000   10.000000   20.000000    5.000000   \n",
       "25%     50.000000   55.000000   50.000000   49.750000   50.000000   45.000000   \n",
       "50%     65.000000   75.000000   70.000000   65.000000   70.000000   65.000000   \n",
       "75%     80.000000  100.000000   90.000000   95.000000   90.000000   90.000000   \n",
       "max    255.000000  190.000000  230.000000  194.000000  230.000000  180.000000   \n",
       "\n",
       "       Generation      Total  \n",
       "count   800.00000  800.00000  \n",
       "mean      3.32375  435.10250  \n",
       "std       1.66129  119.96304  \n",
       "min       1.00000  180.00000  \n",
       "25%       2.00000  330.00000  \n",
       "50%       3.00000  450.00000  \n",
       "75%       5.00000  515.00000  \n",
       "max       6.00000  780.00000  "
      ]
     },
     "execution_count": 29,
     "metadata": {},
     "output_type": "execute_result"
    }
   ],
   "source": [
    "df.describe()"
   ]
  },
  {
   "cell_type": "markdown",
   "id": "a2516057",
   "metadata": {},
   "source": [
    "# Sorting Data"
   ]
  },
  {
   "cell_type": "code",
   "execution_count": 19,
   "id": "4fed567d",
   "metadata": {},
   "outputs": [
    {
     "name": "stdout",
     "output_type": "stream",
     "text": [
      "                        Name   Type 1  Type 2   HP  Attack  Defense  Sp. Atk  \\\n",
      "#                                                                              \n",
      "460                Abomasnow    Grass     Ice   90      92       75       92   \n",
      "460  AbomasnowMega Abomasnow    Grass     Ice   90     132      105      132   \n",
      "63                      Abra  Psychic     NaN   25      20       15      105   \n",
      "359                    Absol     Dark     NaN   65     130       60       75   \n",
      "359          AbsolMega Absol     Dark     NaN   65     150       60      115   \n",
      "..                       ...      ...     ...  ...     ...      ...      ...   \n",
      "571                  Zoroark     Dark     NaN   60     105       60      120   \n",
      "570                    Zorua     Dark     NaN   40      65       40       80   \n",
      "41                     Zubat   Poison  Flying   40      45       35       30   \n",
      "634                 Zweilous     Dark  Dragon   72      85       70       65   \n",
      "718         Zygarde50% Forme   Dragon  Ground  108     100      121       81   \n",
      "\n",
      "     Sp. Def  Speed  Generation  Legendary  \n",
      "#                                           \n",
      "460       85     60           4      False  \n",
      "460      105     30           4      False  \n",
      "63        55     90           1      False  \n",
      "359       60     75           3      False  \n",
      "359       60    115           3      False  \n",
      "..       ...    ...         ...        ...  \n",
      "571       60    105           5      False  \n",
      "570       40     65           5      False  \n",
      "41        40     55           1      False  \n",
      "634       70     58           5      False  \n",
      "718       95     95           6       True  \n",
      "\n",
      "[800 rows x 11 columns]\n"
     ]
    }
   ],
   "source": [
    "sorted = df.sort_values(['Name'])\n",
    "\n",
    "print(sorted)"
   ]
  },
  {
   "cell_type": "markdown",
   "id": "db1cae98",
   "metadata": {},
   "source": [
    "# Making changes to the data"
   ]
  },
  {
   "cell_type": "raw",
   "id": "809291ca",
   "metadata": {},
   "source": [
    "Making a coloumn 'Total' which is the sum of HP,Attack,Defense,Sp. Atk,Sp.defense and Speed"
   ]
  },
  {
   "cell_type": "code",
   "execution_count": 20,
   "id": "df448460",
   "metadata": {},
   "outputs": [
    {
     "name": "stdout",
     "output_type": "stream",
     "text": [
      "                      Name   Type 1  Type 2  HP  Attack  Defense  Sp. Atk  \\\n",
      "#                                                                           \n",
      "1                Bulbasaur    Grass  Poison  45      49       49       65   \n",
      "2                  Ivysaur    Grass  Poison  60      62       63       80   \n",
      "3                 Venusaur    Grass  Poison  80      82       83      100   \n",
      "3    VenusaurMega Venusaur    Grass  Poison  80     100      123      122   \n",
      "4               Charmander     Fire     NaN  39      52       43       60   \n",
      "..                     ...      ...     ...  ..     ...      ...      ...   \n",
      "719                Diancie     Rock   Fairy  50     100      150      100   \n",
      "719    DiancieMega Diancie     Rock   Fairy  50     160      110      160   \n",
      "720    HoopaHoopa Confined  Psychic   Ghost  80     110       60      150   \n",
      "720     HoopaHoopa Unbound  Psychic    Dark  80     160       60      170   \n",
      "721              Volcanion     Fire   Water  80     110      120      130   \n",
      "\n",
      "     Sp. Def  Speed  Generation  Legendary  Total  \n",
      "#                                                  \n",
      "1         65     45           1      False    318  \n",
      "2         80     60           1      False    405  \n",
      "3        100     80           1      False    525  \n",
      "3        120     80           1      False    625  \n",
      "4         50     65           1      False    309  \n",
      "..       ...    ...         ...        ...    ...  \n",
      "719      150     50           6       True    600  \n",
      "719      110    110           6       True    700  \n",
      "720      130     70           6       True    600  \n",
      "720      130     80           6       True    680  \n",
      "721       90     70           6       True    600  \n",
      "\n",
      "[800 rows x 12 columns]\n"
     ]
    }
   ],
   "source": [
    "df['Total'] = df.iloc[:,3:9].sum(axis=1)\n",
    "\n",
    "print(df)"
   ]
  },
  {
   "cell_type": "markdown",
   "id": "471b54ff",
   "metadata": {},
   "source": [
    "# Saving our updated Data (Exporting into Desired Format)"
   ]
  },
  {
   "cell_type": "code",
   "execution_count": 22,
   "id": "a2c88b7e",
   "metadata": {},
   "outputs": [],
   "source": [
    "df.to_csv('modified.csv', index=False)"
   ]
  },
  {
   "cell_type": "markdown",
   "id": "5b065f73",
   "metadata": {},
   "source": [
    "# Filtering Data"
   ]
  },
  {
   "cell_type": "code",
   "execution_count": 28,
   "id": "346825d6",
   "metadata": {},
   "outputs": [
    {
     "name": "stdout",
     "output_type": "stream",
     "text": [
      "                      Name Type 1  Type 2   HP  Attack  Defense  Sp. Atk  \\\n",
      "#                                                                          \n",
      "1                Bulbasaur  Grass  Poison   45      49       49       65   \n",
      "2                  Ivysaur  Grass  Poison   60      62       63       80   \n",
      "3                 Venusaur  Grass  Poison   80      82       83      100   \n",
      "3    VenusaurMega Venusaur  Grass  Poison   80     100      123      122   \n",
      "43                  Oddish  Grass  Poison   45      50       55       75   \n",
      "44                   Gloom  Grass  Poison   60      65       70       85   \n",
      "45               Vileplume  Grass  Poison   75      80       85      110   \n",
      "69              Bellsprout  Grass  Poison   50      75       35       70   \n",
      "70              Weepinbell  Grass  Poison   65      90       50       85   \n",
      "71              Victreebel  Grass  Poison   80     105       65      100   \n",
      "315                Roselia  Grass  Poison   50      60       45      100   \n",
      "406                  Budew  Grass  Poison   40      30       35       50   \n",
      "407               Roserade  Grass  Poison   60      70       65      125   \n",
      "590                Foongus  Grass  Poison   69      55       45       55   \n",
      "591              Amoonguss  Grass  Poison  114      85       70       85   \n",
      "\n",
      "     Sp. Def  Speed  Generation  Legendary  Total  \n",
      "#                                                  \n",
      "1         65     45           1      False    318  \n",
      "2         80     60           1      False    405  \n",
      "3        100     80           1      False    525  \n",
      "3        120     80           1      False    625  \n",
      "43        65     30           1      False    320  \n",
      "44        75     40           1      False    395  \n",
      "45        90     50           1      False    490  \n",
      "69        30     40           1      False    300  \n",
      "70        45     55           1      False    390  \n",
      "71        70     70           1      False    490  \n",
      "315       80     65           3      False    400  \n",
      "406       70     55           4      False    280  \n",
      "407      105     90           4      False    515  \n",
      "590       55     15           5      False    294  \n",
      "591       80     30           5      False    464  \n"
     ]
    }
   ],
   "source": [
    "new = df.loc[(df['Type 1'] == 'Grass') & (df['Type 2'] == 'Poison')]\n",
    "                \n",
    "print(new)"
   ]
  },
  {
   "cell_type": "code",
   "execution_count": null,
   "id": "0eeb3ed9",
   "metadata": {},
   "outputs": [],
   "source": []
  }
 ],
 "metadata": {
  "kernelspec": {
   "display_name": "Python 3",
   "language": "python",
   "name": "python3"
  },
  "language_info": {
   "codemirror_mode": {
    "name": "ipython",
    "version": 3
   },
   "file_extension": ".py",
   "mimetype": "text/x-python",
   "name": "python",
   "nbconvert_exporter": "python",
   "pygments_lexer": "ipython3",
   "version": "3.8.8"
  }
 },
 "nbformat": 4,
 "nbformat_minor": 5
}
